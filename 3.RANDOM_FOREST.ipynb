{
 "cells": [
  {
   "cell_type": "code",
   "execution_count": 1,
   "metadata": {},
   "outputs": [],
   "source": [
    "import pandas as pd\n",
    "import numpy as np\n",
    "\n",
    "from sklearn.model_selection import GridSearchCV\n",
    "import Build_Evaluate_Model as bem\n",
    "from sklearn.metrics import roc_auc_score\n",
    "from imblearn.ensemble import BalancedRandomForestClassifier\n",
    "\n",
    "from sklearn import ensemble\n",
    "from sklearn import model_selection\n",
    "from sklearn.ensemble import RandomForestClassifier\n",
    "from sklearn.model_selection import RandomizedSearchCV"
   ]
  },
  {
   "cell_type": "markdown",
   "metadata": {},
   "source": [
    "### BASIC MODEL"
   ]
  },
  {
   "cell_type": "code",
   "execution_count": 2,
   "metadata": {},
   "outputs": [],
   "source": [
    "X_train,y_train,X_test,y_test=bem.get_xy_traintest(scale=False,scaler=None)\n"
   ]
  },
  {
   "cell_type": "code",
   "execution_count": 3,
   "metadata": {},
   "outputs": [],
   "source": [
    "rf_score=bem.build_basic_model(X_train,y_train,X_test,y_test,classifier='Random Forest')"
   ]
  },
  {
   "cell_type": "code",
   "execution_count": 4,
   "metadata": {},
   "outputs": [
    {
     "data": {
      "text/html": [
       "<div>\n",
       "<style scoped>\n",
       "    .dataframe tbody tr th:only-of-type {\n",
       "        vertical-align: middle;\n",
       "    }\n",
       "\n",
       "    .dataframe tbody tr th {\n",
       "        vertical-align: top;\n",
       "    }\n",
       "\n",
       "    .dataframe thead th {\n",
       "        text-align: right;\n",
       "    }\n",
       "</style>\n",
       "<table border=\"1\" class=\"dataframe\">\n",
       "  <thead>\n",
       "    <tr style=\"text-align: right;\">\n",
       "      <th></th>\n",
       "      <th>MODEL</th>\n",
       "      <th>PARAMS</th>\n",
       "      <th>y_train_prob</th>\n",
       "      <th>y_test_prob</th>\n",
       "      <th>TRAIN SCORE</th>\n",
       "      <th>TEST SCORE</th>\n",
       "      <th>DIFFERENCE</th>\n",
       "    </tr>\n",
       "  </thead>\n",
       "  <tbody>\n",
       "    <tr>\n",
       "      <th>0</th>\n",
       "      <td>Basic</td>\n",
       "      <td>(DecisionTreeClassifier(max_features='auto', r...</td>\n",
       "      <td>[0.04, 0.04, 0.13, 0.18, 0.06, 0.96, 0.73, 0.0...</td>\n",
       "      <td>[0.19, 0.34, 0.33, 0.47, 0.22, 0.77, 0.49, 0.4...</td>\n",
       "      <td>0.999989</td>\n",
       "      <td>0.768271</td>\n",
       "      <td>0.231719</td>\n",
       "    </tr>\n",
       "  </tbody>\n",
       "</table>\n",
       "</div>"
      ],
      "text/plain": [
       "   MODEL                                             PARAMS  \\\n",
       "0  Basic  (DecisionTreeClassifier(max_features='auto', r...   \n",
       "\n",
       "                                        y_train_prob  \\\n",
       "0  [0.04, 0.04, 0.13, 0.18, 0.06, 0.96, 0.73, 0.0...   \n",
       "\n",
       "                                         y_test_prob  TRAIN SCORE  TEST SCORE  \\\n",
       "0  [0.19, 0.34, 0.33, 0.47, 0.22, 0.77, 0.49, 0.4...     0.999989    0.768271   \n",
       "\n",
       "   DIFFERENCE  \n",
       "0    0.231719  "
      ]
     },
     "execution_count": 4,
     "metadata": {},
     "output_type": "execute_result"
    }
   ],
   "source": [
    "#ROC-AUC SCORE ON BASIC RANDOM FOREST MODEL\n",
    "\n",
    "rf_score"
   ]
  },
  {
   "cell_type": "markdown",
   "metadata": {},
   "source": [
    "- Our model is definetly overfitting.Lets Try to reduce the model overfit"
   ]
  },
  {
   "cell_type": "markdown",
   "metadata": {},
   "source": [
    "### REDUCING OVERFIT "
   ]
  },
  {
   "cell_type": "markdown",
   "metadata": {},
   "source": [
    "method_1: Trying to control min_samples_leaf: minimum samples required for it to be leaf node"
   ]
  },
  {
   "cell_type": "code",
   "execution_count": 5,
   "metadata": {},
   "outputs": [],
   "source": [
    "min_samples_leaf=[10,45,65]"
   ]
  },
  {
   "cell_type": "code",
   "execution_count": 6,
   "metadata": {},
   "outputs": [],
   "source": [
    "for msl in min_samples_leaf:\n",
    "    rf=RandomForestClassifier(min_samples_leaf=msl,random_state=0)\n",
    "    rf_score=bem.build_model(X_train,y_train,X_test,y_test,classifier=rf,score_df=rf_score,classifier_name='rf_msl'+str(msl))\n",
    "    "
   ]
  },
  {
   "cell_type": "code",
   "execution_count": 7,
   "metadata": {},
   "outputs": [
    {
     "data": {
      "text/html": [
       "<div>\n",
       "<style scoped>\n",
       "    .dataframe tbody tr th:only-of-type {\n",
       "        vertical-align: middle;\n",
       "    }\n",
       "\n",
       "    .dataframe tbody tr th {\n",
       "        vertical-align: top;\n",
       "    }\n",
       "\n",
       "    .dataframe thead th {\n",
       "        text-align: right;\n",
       "    }\n",
       "</style>\n",
       "<table border=\"1\" class=\"dataframe\">\n",
       "  <thead>\n",
       "    <tr style=\"text-align: right;\">\n",
       "      <th></th>\n",
       "      <th>MODEL</th>\n",
       "      <th>PARAMS</th>\n",
       "      <th>y_train_prob</th>\n",
       "      <th>y_test_prob</th>\n",
       "      <th>TRAIN SCORE</th>\n",
       "      <th>TEST SCORE</th>\n",
       "      <th>DIFFERENCE</th>\n",
       "    </tr>\n",
       "  </thead>\n",
       "  <tbody>\n",
       "    <tr>\n",
       "      <th>0</th>\n",
       "      <td>Basic</td>\n",
       "      <td>(DecisionTreeClassifier(max_features='auto', r...</td>\n",
       "      <td>[0.04, 0.04, 0.13, 0.18, 0.06, 0.96, 0.73, 0.0...</td>\n",
       "      <td>[0.19, 0.34, 0.33, 0.47, 0.22, 0.77, 0.49, 0.4...</td>\n",
       "      <td>0.999989</td>\n",
       "      <td>0.768271</td>\n",
       "      <td>0.231719</td>\n",
       "    </tr>\n",
       "    <tr>\n",
       "      <th>1</th>\n",
       "      <td>rf_msl10</td>\n",
       "      <td>(DecisionTreeClassifier(max_features='auto', m...</td>\n",
       "      <td>[0.08854199087805899, 0.1768874675022498, 0.25...</td>\n",
       "      <td>[0.2219022504934216, 0.34254518158218156, 0.33...</td>\n",
       "      <td>0.945667</td>\n",
       "      <td>0.784582</td>\n",
       "      <td>0.161084</td>\n",
       "    </tr>\n",
       "    <tr>\n",
       "      <th>2</th>\n",
       "      <td>rf_msl45</td>\n",
       "      <td>(DecisionTreeClassifier(max_features='auto', m...</td>\n",
       "      <td>[0.14487844933899072, 0.2130217194091534, 0.26...</td>\n",
       "      <td>[0.19996943135517753, 0.3533448404888128, 0.35...</td>\n",
       "      <td>0.858510</td>\n",
       "      <td>0.783177</td>\n",
       "      <td>0.075333</td>\n",
       "    </tr>\n",
       "    <tr>\n",
       "      <th>3</th>\n",
       "      <td>rf_msl65</td>\n",
       "      <td>(DecisionTreeClassifier(max_features='auto', m...</td>\n",
       "      <td>[0.1346857862409104, 0.2343646944379507, 0.267...</td>\n",
       "      <td>[0.19147886321540672, 0.31018316836489557, 0.3...</td>\n",
       "      <td>0.842695</td>\n",
       "      <td>0.782932</td>\n",
       "      <td>0.059763</td>\n",
       "    </tr>\n",
       "  </tbody>\n",
       "</table>\n",
       "</div>"
      ],
      "text/plain": [
       "      MODEL                                             PARAMS  \\\n",
       "0     Basic  (DecisionTreeClassifier(max_features='auto', r...   \n",
       "1  rf_msl10  (DecisionTreeClassifier(max_features='auto', m...   \n",
       "2  rf_msl45  (DecisionTreeClassifier(max_features='auto', m...   \n",
       "3  rf_msl65  (DecisionTreeClassifier(max_features='auto', m...   \n",
       "\n",
       "                                        y_train_prob  \\\n",
       "0  [0.04, 0.04, 0.13, 0.18, 0.06, 0.96, 0.73, 0.0...   \n",
       "1  [0.08854199087805899, 0.1768874675022498, 0.25...   \n",
       "2  [0.14487844933899072, 0.2130217194091534, 0.26...   \n",
       "3  [0.1346857862409104, 0.2343646944379507, 0.267...   \n",
       "\n",
       "                                         y_test_prob  TRAIN SCORE  TEST SCORE  \\\n",
       "0  [0.19, 0.34, 0.33, 0.47, 0.22, 0.77, 0.49, 0.4...     0.999989    0.768271   \n",
       "1  [0.2219022504934216, 0.34254518158218156, 0.33...     0.945667    0.784582   \n",
       "2  [0.19996943135517753, 0.3533448404888128, 0.35...     0.858510    0.783177   \n",
       "3  [0.19147886321540672, 0.31018316836489557, 0.3...     0.842695    0.782932   \n",
       "\n",
       "   DIFFERENCE  \n",
       "0    0.231719  \n",
       "1    0.161084  \n",
       "2    0.075333  \n",
       "3    0.059763  "
      ]
     },
     "execution_count": 7,
     "metadata": {},
     "output_type": "execute_result"
    }
   ],
   "source": [
    "rf_score"
   ]
  },
  {
   "cell_type": "markdown",
   "metadata": {},
   "source": [
    "### BALANCED-RANDOM FOREST MODEL"
   ]
  },
  {
   "cell_type": "markdown",
   "metadata": {},
   "source": [
    "- Lets see if this model helps handelling imbalance better"
   ]
  },
  {
   "cell_type": "code",
   "execution_count": 11,
   "metadata": {},
   "outputs": [],
   "source": [
    "bal_rf=BalancedRandomForestClassifier(random_state=0)"
   ]
  },
  {
   "cell_type": "code",
   "execution_count": 12,
   "metadata": {},
   "outputs": [],
   "source": [
    "rf_score=bem.build_model(X_train,y_train,X_test,y_test,classifier=bal_rf,score_df=rf_score,classifier_name='bal_rf')"
   ]
  },
  {
   "cell_type": "code",
   "execution_count": 13,
   "metadata": {},
   "outputs": [
    {
     "data": {
      "text/html": [
       "<div>\n",
       "<style scoped>\n",
       "    .dataframe tbody tr th:only-of-type {\n",
       "        vertical-align: middle;\n",
       "    }\n",
       "\n",
       "    .dataframe tbody tr th {\n",
       "        vertical-align: top;\n",
       "    }\n",
       "\n",
       "    .dataframe thead th {\n",
       "        text-align: right;\n",
       "    }\n",
       "</style>\n",
       "<table border=\"1\" class=\"dataframe\">\n",
       "  <thead>\n",
       "    <tr style=\"text-align: right;\">\n",
       "      <th></th>\n",
       "      <th>MODEL</th>\n",
       "      <th>PARAMS</th>\n",
       "      <th>y_train_prob</th>\n",
       "      <th>y_test_prob</th>\n",
       "      <th>TRAIN SCORE</th>\n",
       "      <th>TEST SCORE</th>\n",
       "      <th>DIFFERENCE</th>\n",
       "    </tr>\n",
       "  </thead>\n",
       "  <tbody>\n",
       "    <tr>\n",
       "      <th>0</th>\n",
       "      <td>Basic</td>\n",
       "      <td>(DecisionTreeClassifier(max_features='auto', r...</td>\n",
       "      <td>[0.04, 0.04, 0.13, 0.18, 0.06, 0.96, 0.73, 0.0...</td>\n",
       "      <td>[0.19, 0.34, 0.33, 0.47, 0.22, 0.77, 0.49, 0.4...</td>\n",
       "      <td>0.999989</td>\n",
       "      <td>0.768271</td>\n",
       "      <td>0.231719</td>\n",
       "    </tr>\n",
       "    <tr>\n",
       "      <th>1</th>\n",
       "      <td>rf_msl10</td>\n",
       "      <td>(DecisionTreeClassifier(max_features='auto', m...</td>\n",
       "      <td>[0.08854199087805899, 0.1768874675022498, 0.25...</td>\n",
       "      <td>[0.2219022504934216, 0.34254518158218156, 0.33...</td>\n",
       "      <td>0.945667</td>\n",
       "      <td>0.784582</td>\n",
       "      <td>0.161084</td>\n",
       "    </tr>\n",
       "    <tr>\n",
       "      <th>2</th>\n",
       "      <td>rf_msl45</td>\n",
       "      <td>(DecisionTreeClassifier(max_features='auto', m...</td>\n",
       "      <td>[0.14487844933899072, 0.2130217194091534, 0.26...</td>\n",
       "      <td>[0.19996943135517753, 0.3533448404888128, 0.35...</td>\n",
       "      <td>0.858510</td>\n",
       "      <td>0.783177</td>\n",
       "      <td>0.075333</td>\n",
       "    </tr>\n",
       "    <tr>\n",
       "      <th>3</th>\n",
       "      <td>rf_msl65</td>\n",
       "      <td>(DecisionTreeClassifier(max_features='auto', m...</td>\n",
       "      <td>[0.1346857862409104, 0.2343646944379507, 0.267...</td>\n",
       "      <td>[0.19147886321540672, 0.31018316836489557, 0.3...</td>\n",
       "      <td>0.842695</td>\n",
       "      <td>0.782932</td>\n",
       "      <td>0.059763</td>\n",
       "    </tr>\n",
       "    <tr>\n",
       "      <th>4</th>\n",
       "      <td>bal_rf</td>\n",
       "      <td>(DecisionTreeClassifier(max_features='auto', r...</td>\n",
       "      <td>[0.13, 0.12, 0.27, 0.47, 0.13, 0.97, 0.82, 0.1...</td>\n",
       "      <td>[0.28, 0.51, 0.54, 0.75, 0.32, 0.86, 0.63, 0.6...</td>\n",
       "      <td>0.999901</td>\n",
       "      <td>0.773893</td>\n",
       "      <td>0.226008</td>\n",
       "    </tr>\n",
       "  </tbody>\n",
       "</table>\n",
       "</div>"
      ],
      "text/plain": [
       "      MODEL                                             PARAMS  \\\n",
       "0     Basic  (DecisionTreeClassifier(max_features='auto', r...   \n",
       "1  rf_msl10  (DecisionTreeClassifier(max_features='auto', m...   \n",
       "2  rf_msl45  (DecisionTreeClassifier(max_features='auto', m...   \n",
       "3  rf_msl65  (DecisionTreeClassifier(max_features='auto', m...   \n",
       "4    bal_rf  (DecisionTreeClassifier(max_features='auto', r...   \n",
       "\n",
       "                                        y_train_prob  \\\n",
       "0  [0.04, 0.04, 0.13, 0.18, 0.06, 0.96, 0.73, 0.0...   \n",
       "1  [0.08854199087805899, 0.1768874675022498, 0.25...   \n",
       "2  [0.14487844933899072, 0.2130217194091534, 0.26...   \n",
       "3  [0.1346857862409104, 0.2343646944379507, 0.267...   \n",
       "4  [0.13, 0.12, 0.27, 0.47, 0.13, 0.97, 0.82, 0.1...   \n",
       "\n",
       "                                         y_test_prob  TRAIN SCORE  TEST SCORE  \\\n",
       "0  [0.19, 0.34, 0.33, 0.47, 0.22, 0.77, 0.49, 0.4...     0.999989    0.768271   \n",
       "1  [0.2219022504934216, 0.34254518158218156, 0.33...     0.945667    0.784582   \n",
       "2  [0.19996943135517753, 0.3533448404888128, 0.35...     0.858510    0.783177   \n",
       "3  [0.19147886321540672, 0.31018316836489557, 0.3...     0.842695    0.782932   \n",
       "4  [0.28, 0.51, 0.54, 0.75, 0.32, 0.86, 0.63, 0.6...     0.999901    0.773893   \n",
       "\n",
       "   DIFFERENCE  \n",
       "0    0.231719  \n",
       "1    0.161084  \n",
       "2    0.075333  \n",
       "3    0.059763  \n",
       "4    0.226008  "
      ]
     },
     "execution_count": 13,
     "metadata": {},
     "output_type": "execute_result"
    }
   ],
   "source": [
    "rf_score"
   ]
  },
  {
   "cell_type": "code",
   "execution_count": 14,
   "metadata": {},
   "outputs": [],
   "source": [
    "# Reducing overfit in bal_rf\n",
    "for msl in min_samples_leaf:\n",
    "    rf=BalancedRandomForestClassifier(min_samples_leaf=msl,random_state=0)\n",
    "    rf_score=bem.build_model(X_train,y_train,X_test,y_test,classifier=rf,score_df=rf_score,classifier_name='bal_rf_msl'+str(msl))\n",
    "    "
   ]
  },
  {
   "cell_type": "code",
   "execution_count": 15,
   "metadata": {},
   "outputs": [
    {
     "data": {
      "text/html": [
       "<div>\n",
       "<style scoped>\n",
       "    .dataframe tbody tr th:only-of-type {\n",
       "        vertical-align: middle;\n",
       "    }\n",
       "\n",
       "    .dataframe tbody tr th {\n",
       "        vertical-align: top;\n",
       "    }\n",
       "\n",
       "    .dataframe thead th {\n",
       "        text-align: right;\n",
       "    }\n",
       "</style>\n",
       "<table border=\"1\" class=\"dataframe\">\n",
       "  <thead>\n",
       "    <tr style=\"text-align: right;\">\n",
       "      <th></th>\n",
       "      <th>MODEL</th>\n",
       "      <th>PARAMS</th>\n",
       "      <th>y_train_prob</th>\n",
       "      <th>y_test_prob</th>\n",
       "      <th>TRAIN SCORE</th>\n",
       "      <th>TEST SCORE</th>\n",
       "      <th>DIFFERENCE</th>\n",
       "    </tr>\n",
       "  </thead>\n",
       "  <tbody>\n",
       "    <tr>\n",
       "      <th>0</th>\n",
       "      <td>Basic</td>\n",
       "      <td>(DecisionTreeClassifier(max_features='auto', r...</td>\n",
       "      <td>[0.04, 0.04, 0.13, 0.18, 0.06, 0.96, 0.73, 0.0...</td>\n",
       "      <td>[0.19, 0.34, 0.33, 0.47, 0.22, 0.77, 0.49, 0.4...</td>\n",
       "      <td>0.999989</td>\n",
       "      <td>0.768271</td>\n",
       "      <td>0.231719</td>\n",
       "    </tr>\n",
       "    <tr>\n",
       "      <th>1</th>\n",
       "      <td>rf_msl10</td>\n",
       "      <td>(DecisionTreeClassifier(max_features='auto', m...</td>\n",
       "      <td>[0.08854199087805899, 0.1768874675022498, 0.25...</td>\n",
       "      <td>[0.2219022504934216, 0.34254518158218156, 0.33...</td>\n",
       "      <td>0.945667</td>\n",
       "      <td>0.784582</td>\n",
       "      <td>0.161084</td>\n",
       "    </tr>\n",
       "    <tr>\n",
       "      <th>2</th>\n",
       "      <td>rf_msl45</td>\n",
       "      <td>(DecisionTreeClassifier(max_features='auto', m...</td>\n",
       "      <td>[0.14487844933899072, 0.2130217194091534, 0.26...</td>\n",
       "      <td>[0.19996943135517753, 0.3533448404888128, 0.35...</td>\n",
       "      <td>0.858510</td>\n",
       "      <td>0.783177</td>\n",
       "      <td>0.075333</td>\n",
       "    </tr>\n",
       "    <tr>\n",
       "      <th>3</th>\n",
       "      <td>rf_msl65</td>\n",
       "      <td>(DecisionTreeClassifier(max_features='auto', m...</td>\n",
       "      <td>[0.1346857862409104, 0.2343646944379507, 0.267...</td>\n",
       "      <td>[0.19147886321540672, 0.31018316836489557, 0.3...</td>\n",
       "      <td>0.842695</td>\n",
       "      <td>0.782932</td>\n",
       "      <td>0.059763</td>\n",
       "    </tr>\n",
       "    <tr>\n",
       "      <th>4</th>\n",
       "      <td>bal_rf</td>\n",
       "      <td>(DecisionTreeClassifier(max_features='auto', r...</td>\n",
       "      <td>[0.13, 0.12, 0.27, 0.47, 0.13, 0.97, 0.82, 0.1...</td>\n",
       "      <td>[0.28, 0.51, 0.54, 0.75, 0.32, 0.86, 0.63, 0.6...</td>\n",
       "      <td>0.999901</td>\n",
       "      <td>0.773893</td>\n",
       "      <td>0.226008</td>\n",
       "    </tr>\n",
       "    <tr>\n",
       "      <th>5</th>\n",
       "      <td>bal_rf_msl10</td>\n",
       "      <td>(DecisionTreeClassifier(max_features='auto', m...</td>\n",
       "      <td>[0.16721506858536128, 0.26587827130223207, 0.3...</td>\n",
       "      <td>[0.28520228259495206, 0.4587512390605052, 0.46...</td>\n",
       "      <td>0.922924</td>\n",
       "      <td>0.781394</td>\n",
       "      <td>0.141530</td>\n",
       "    </tr>\n",
       "    <tr>\n",
       "      <th>6</th>\n",
       "      <td>bal_rf_msl45</td>\n",
       "      <td>(DecisionTreeClassifier(max_features='auto', m...</td>\n",
       "      <td>[0.23496443345388532, 0.3448356567329877, 0.39...</td>\n",
       "      <td>[0.3065565404680901, 0.49037308492326387, 0.45...</td>\n",
       "      <td>0.841652</td>\n",
       "      <td>0.783055</td>\n",
       "      <td>0.058597</td>\n",
       "    </tr>\n",
       "    <tr>\n",
       "      <th>7</th>\n",
       "      <td>bal_rf_msl65</td>\n",
       "      <td>(DecisionTreeClassifier(max_features='auto', m...</td>\n",
       "      <td>[0.252757709454799, 0.3676981362144722, 0.3707...</td>\n",
       "      <td>[0.3045684252308866, 0.47011514456109454, 0.49...</td>\n",
       "      <td>0.827316</td>\n",
       "      <td>0.781132</td>\n",
       "      <td>0.046183</td>\n",
       "    </tr>\n",
       "  </tbody>\n",
       "</table>\n",
       "</div>"
      ],
      "text/plain": [
       "          MODEL                                             PARAMS  \\\n",
       "0         Basic  (DecisionTreeClassifier(max_features='auto', r...   \n",
       "1      rf_msl10  (DecisionTreeClassifier(max_features='auto', m...   \n",
       "2      rf_msl45  (DecisionTreeClassifier(max_features='auto', m...   \n",
       "3      rf_msl65  (DecisionTreeClassifier(max_features='auto', m...   \n",
       "4        bal_rf  (DecisionTreeClassifier(max_features='auto', r...   \n",
       "5  bal_rf_msl10  (DecisionTreeClassifier(max_features='auto', m...   \n",
       "6  bal_rf_msl45  (DecisionTreeClassifier(max_features='auto', m...   \n",
       "7  bal_rf_msl65  (DecisionTreeClassifier(max_features='auto', m...   \n",
       "\n",
       "                                        y_train_prob  \\\n",
       "0  [0.04, 0.04, 0.13, 0.18, 0.06, 0.96, 0.73, 0.0...   \n",
       "1  [0.08854199087805899, 0.1768874675022498, 0.25...   \n",
       "2  [0.14487844933899072, 0.2130217194091534, 0.26...   \n",
       "3  [0.1346857862409104, 0.2343646944379507, 0.267...   \n",
       "4  [0.13, 0.12, 0.27, 0.47, 0.13, 0.97, 0.82, 0.1...   \n",
       "5  [0.16721506858536128, 0.26587827130223207, 0.3...   \n",
       "6  [0.23496443345388532, 0.3448356567329877, 0.39...   \n",
       "7  [0.252757709454799, 0.3676981362144722, 0.3707...   \n",
       "\n",
       "                                         y_test_prob  TRAIN SCORE  TEST SCORE  \\\n",
       "0  [0.19, 0.34, 0.33, 0.47, 0.22, 0.77, 0.49, 0.4...     0.999989    0.768271   \n",
       "1  [0.2219022504934216, 0.34254518158218156, 0.33...     0.945667    0.784582   \n",
       "2  [0.19996943135517753, 0.3533448404888128, 0.35...     0.858510    0.783177   \n",
       "3  [0.19147886321540672, 0.31018316836489557, 0.3...     0.842695    0.782932   \n",
       "4  [0.28, 0.51, 0.54, 0.75, 0.32, 0.86, 0.63, 0.6...     0.999901    0.773893   \n",
       "5  [0.28520228259495206, 0.4587512390605052, 0.46...     0.922924    0.781394   \n",
       "6  [0.3065565404680901, 0.49037308492326387, 0.45...     0.841652    0.783055   \n",
       "7  [0.3045684252308866, 0.47011514456109454, 0.49...     0.827316    0.781132   \n",
       "\n",
       "   DIFFERENCE  \n",
       "0    0.231719  \n",
       "1    0.161084  \n",
       "2    0.075333  \n",
       "3    0.059763  \n",
       "4    0.226008  \n",
       "5    0.141530  \n",
       "6    0.058597  \n",
       "7    0.046183  "
      ]
     },
     "execution_count": 15,
     "metadata": {},
     "output_type": "execute_result"
    }
   ],
   "source": [
    "rf_score"
   ]
  },
  {
   "cell_type": "markdown",
   "metadata": {},
   "source": [
    "### PLAYING WITH HYPER PARAMETERS OF BAL RF"
   ]
  },
  {
   "cell_type": "code",
   "execution_count": 16,
   "metadata": {},
   "outputs": [
    {
     "name": "stdout",
     "output_type": "stream",
     "text": [
      "Fitting 5 folds for each of 10 candidates, totalling 50 fits\n"
     ]
    },
    {
     "name": "stderr",
     "output_type": "stream",
     "text": [
      "[Parallel(n_jobs=-1)]: Using backend LokyBackend with 8 concurrent workers.\n",
      "[Parallel(n_jobs=-1)]: Done   2 tasks      | elapsed:    6.4s\n",
      "[Parallel(n_jobs=-1)]: Done   9 tasks      | elapsed:    7.3s\n",
      "[Parallel(n_jobs=-1)]: Done  16 tasks      | elapsed:   20.5s\n",
      "[Parallel(n_jobs=-1)]: Done  25 tasks      | elapsed:   55.7s\n",
      "[Parallel(n_jobs=-1)]: Done  34 tasks      | elapsed:  1.2min\n",
      "[Parallel(n_jobs=-1)]: Done  41 out of  50 | elapsed:  1.6min remaining:   20.5s\n",
      "[Parallel(n_jobs=-1)]: Done  47 out of  50 | elapsed:  1.8min remaining:    6.7s\n",
      "[Parallel(n_jobs=-1)]: Done  50 out of  50 | elapsed:  1.8min finished\n"
     ]
    },
    {
     "data": {
      "text/plain": [
       "RandomizedSearchCV(estimator=BalancedRandomForestClassifier(n_jobs=-1),\n",
       "                   n_jobs=-1,\n",
       "                   param_distributions={'criterion': ['gini', 'entropy'],\n",
       "                                        'max_depth': ['None', 1, 3, 5, 7],\n",
       "                                        'max_features': ['auto', 'sqrt'],\n",
       "                                        'min_samples_leaf': [35, 45, 60],\n",
       "                                        'n_estimators': [100, 200, 300, 400,\n",
       "                                                         500]},\n",
       "                   scoring='roc_auc', verbose=10)"
      ]
     },
     "execution_count": 16,
     "metadata": {},
     "output_type": "execute_result"
    }
   ],
   "source": [
    "classifier=BalancedRandomForestClassifier(n_jobs=-1)\n",
    "param_grid={'min_samples_leaf':[35,45,60],'n_estimators':[100,200,300,400,500],'max_depth':['None',1,3,5,7],'criterion':['gini','entropy'],'max_features':['auto', 'sqrt']}\n",
    "model=model_selection.RandomizedSearchCV(estimator=classifier,param_distributions=param_grid,scoring='roc_auc',verbose=10,n_jobs=-1)\n",
    "model.fit(X_train,y_train)"
   ]
  },
  {
   "cell_type": "code",
   "execution_count": 17,
   "metadata": {},
   "outputs": [
    {
     "data": {
      "text/plain": [
       "{'n_estimators': 200,\n",
       " 'min_samples_leaf': 35,\n",
       " 'max_features': 'sqrt',\n",
       " 'max_depth': 7,\n",
       " 'criterion': 'gini'}"
      ]
     },
     "execution_count": 17,
     "metadata": {},
     "output_type": "execute_result"
    }
   ],
   "source": [
    "model.best_params_"
   ]
  },
  {
   "cell_type": "code",
   "execution_count": 18,
   "metadata": {},
   "outputs": [],
   "source": [
    "bal_rf_best=BalancedRandomForestClassifier(n_estimators= 200,random_state=0,\n",
    " min_samples_leaf= 35,\n",
    " max_features= 'sqrt',\n",
    " max_depth= 7,\n",
    " criterion= 'gini')"
   ]
  },
  {
   "cell_type": "code",
   "execution_count": 19,
   "metadata": {},
   "outputs": [],
   "source": [
    "rf_score=bem.build_model(X_train,y_train,X_test,y_test,classifier=bal_rf_best,score_df=rf_score,classifier_name='bal_rf_best')"
   ]
  },
  {
   "cell_type": "code",
   "execution_count": 20,
   "metadata": {},
   "outputs": [
    {
     "name": "stdout",
     "output_type": "stream",
     "text": [
      "Fitting 5 folds for each of 10 candidates, totalling 50 fits\n"
     ]
    },
    {
     "name": "stderr",
     "output_type": "stream",
     "text": [
      "[Parallel(n_jobs=-1)]: Using backend LokyBackend with 8 concurrent workers.\n",
      "[Parallel(n_jobs=-1)]: Done   2 tasks      | elapsed:   10.5s\n",
      "[Parallel(n_jobs=-1)]: Done   9 tasks      | elapsed:   20.2s\n",
      "[Parallel(n_jobs=-1)]: Done  16 tasks      | elapsed:   42.8s\n",
      "[Parallel(n_jobs=-1)]: Done  25 tasks      | elapsed:  1.1min\n",
      "[Parallel(n_jobs=-1)]: Done  34 tasks      | elapsed:  1.3min\n",
      "[Parallel(n_jobs=-1)]: Done  41 out of  50 | elapsed:  1.8min remaining:   23.5s\n",
      "[Parallel(n_jobs=-1)]: Done  47 out of  50 | elapsed:  1.9min remaining:    7.3s\n",
      "[Parallel(n_jobs=-1)]: Done  50 out of  50 | elapsed:  1.9min finished\n"
     ]
    },
    {
     "data": {
      "text/plain": [
       "RandomizedSearchCV(estimator=RandomForestClassifier(n_jobs=-1), n_jobs=-1,\n",
       "                   param_distributions={'criterion': ['gini', 'entropy'],\n",
       "                                        'max_depth': ['None', 1, 3, 5, 7],\n",
       "                                        'max_features': ['auto', 'sqrt'],\n",
       "                                        'min_samples_leaf': [35, 45, 60],\n",
       "                                        'n_estimators': [100, 200, 300, 400,\n",
       "                                                         500]},\n",
       "                   scoring='roc_auc', verbose=10)"
      ]
     },
     "execution_count": 20,
     "metadata": {},
     "output_type": "execute_result"
    }
   ],
   "source": [
    "classifier=RandomForestClassifier(n_jobs=-1)\n",
    "param_grid={'min_samples_leaf':[35,45,60],'n_estimators':[100,200,300,400,500],'max_depth':['None',1,3,5,7],'criterion':['gini','entropy'],'max_features':['auto', 'sqrt']}\n",
    "model=model_selection.RandomizedSearchCV(estimator=classifier,param_distributions=param_grid,scoring='roc_auc',verbose=10,n_jobs=-1)\n",
    "model.fit(X_train,y_train)"
   ]
  },
  {
   "cell_type": "code",
   "execution_count": 21,
   "metadata": {},
   "outputs": [
    {
     "data": {
      "text/plain": [
       "{'n_estimators': 400,\n",
       " 'min_samples_leaf': 45,\n",
       " 'max_features': 'auto',\n",
       " 'max_depth': 7,\n",
       " 'criterion': 'entropy'}"
      ]
     },
     "execution_count": 21,
     "metadata": {},
     "output_type": "execute_result"
    }
   ],
   "source": [
    "model.best_params_"
   ]
  },
  {
   "cell_type": "code",
   "execution_count": 22,
   "metadata": {},
   "outputs": [],
   "source": [
    "rf_best=RandomForestClassifier(n_estimators= 400,random_state=0,\n",
    " min_samples_leaf= 45,\n",
    " max_features= 'auto',\n",
    " max_depth= 7,\n",
    " criterion= 'entropy')"
   ]
  },
  {
   "cell_type": "code",
   "execution_count": 23,
   "metadata": {},
   "outputs": [],
   "source": [
    "rf_score=bem.build_model(X_train,y_train,X_test,y_test,classifier=rf_best,score_df=rf_score,classifier_name='rf_best')"
   ]
  },
  {
   "cell_type": "code",
   "execution_count": 24,
   "metadata": {},
   "outputs": [
    {
     "data": {
      "text/html": [
       "<div>\n",
       "<style scoped>\n",
       "    .dataframe tbody tr th:only-of-type {\n",
       "        vertical-align: middle;\n",
       "    }\n",
       "\n",
       "    .dataframe tbody tr th {\n",
       "        vertical-align: top;\n",
       "    }\n",
       "\n",
       "    .dataframe thead th {\n",
       "        text-align: right;\n",
       "    }\n",
       "</style>\n",
       "<table border=\"1\" class=\"dataframe\">\n",
       "  <thead>\n",
       "    <tr style=\"text-align: right;\">\n",
       "      <th></th>\n",
       "      <th>MODEL</th>\n",
       "      <th>PARAMS</th>\n",
       "      <th>y_train_prob</th>\n",
       "      <th>y_test_prob</th>\n",
       "      <th>TRAIN SCORE</th>\n",
       "      <th>TEST SCORE</th>\n",
       "      <th>DIFFERENCE</th>\n",
       "    </tr>\n",
       "  </thead>\n",
       "  <tbody>\n",
       "    <tr>\n",
       "      <th>8</th>\n",
       "      <td>bal_rf_best</td>\n",
       "      <td>(DecisionTreeClassifier(max_depth=7, max_featu...</td>\n",
       "      <td>[0.3225326860721324, 0.403762732475247, 0.3750...</td>\n",
       "      <td>[0.3216126522331057, 0.48172553200471296, 0.45...</td>\n",
       "      <td>0.805664</td>\n",
       "      <td>0.780975</td>\n",
       "      <td>0.024689</td>\n",
       "    </tr>\n",
       "    <tr>\n",
       "      <th>9</th>\n",
       "      <td>rf_best</td>\n",
       "      <td>(DecisionTreeClassifier(criterion='entropy', m...</td>\n",
       "      <td>[0.21318515099720223, 0.27151002043627637, 0.2...</td>\n",
       "      <td>[0.20807496719189986, 0.32706941376921145, 0.3...</td>\n",
       "      <td>0.806491</td>\n",
       "      <td>0.781744</td>\n",
       "      <td>0.024747</td>\n",
       "    </tr>\n",
       "    <tr>\n",
       "      <th>7</th>\n",
       "      <td>bal_rf_msl65</td>\n",
       "      <td>(DecisionTreeClassifier(max_features='auto', m...</td>\n",
       "      <td>[0.252757709454799, 0.3676981362144722, 0.3707...</td>\n",
       "      <td>[0.3045684252308866, 0.47011514456109454, 0.49...</td>\n",
       "      <td>0.827316</td>\n",
       "      <td>0.781132</td>\n",
       "      <td>0.046183</td>\n",
       "    </tr>\n",
       "    <tr>\n",
       "      <th>6</th>\n",
       "      <td>bal_rf_msl45</td>\n",
       "      <td>(DecisionTreeClassifier(max_features='auto', m...</td>\n",
       "      <td>[0.23496443345388532, 0.3448356567329877, 0.39...</td>\n",
       "      <td>[0.3065565404680901, 0.49037308492326387, 0.45...</td>\n",
       "      <td>0.841652</td>\n",
       "      <td>0.783055</td>\n",
       "      <td>0.058597</td>\n",
       "    </tr>\n",
       "    <tr>\n",
       "      <th>3</th>\n",
       "      <td>rf_msl65</td>\n",
       "      <td>(DecisionTreeClassifier(max_features='auto', m...</td>\n",
       "      <td>[0.1346857862409104, 0.2343646944379507, 0.267...</td>\n",
       "      <td>[0.19147886321540672, 0.31018316836489557, 0.3...</td>\n",
       "      <td>0.842695</td>\n",
       "      <td>0.782932</td>\n",
       "      <td>0.059763</td>\n",
       "    </tr>\n",
       "    <tr>\n",
       "      <th>2</th>\n",
       "      <td>rf_msl45</td>\n",
       "      <td>(DecisionTreeClassifier(max_features='auto', m...</td>\n",
       "      <td>[0.14487844933899072, 0.2130217194091534, 0.26...</td>\n",
       "      <td>[0.19996943135517753, 0.3533448404888128, 0.35...</td>\n",
       "      <td>0.858510</td>\n",
       "      <td>0.783177</td>\n",
       "      <td>0.075333</td>\n",
       "    </tr>\n",
       "    <tr>\n",
       "      <th>5</th>\n",
       "      <td>bal_rf_msl10</td>\n",
       "      <td>(DecisionTreeClassifier(max_features='auto', m...</td>\n",
       "      <td>[0.16721506858536128, 0.26587827130223207, 0.3...</td>\n",
       "      <td>[0.28520228259495206, 0.4587512390605052, 0.46...</td>\n",
       "      <td>0.922924</td>\n",
       "      <td>0.781394</td>\n",
       "      <td>0.141530</td>\n",
       "    </tr>\n",
       "    <tr>\n",
       "      <th>1</th>\n",
       "      <td>rf_msl10</td>\n",
       "      <td>(DecisionTreeClassifier(max_features='auto', m...</td>\n",
       "      <td>[0.08854199087805899, 0.1768874675022498, 0.25...</td>\n",
       "      <td>[0.2219022504934216, 0.34254518158218156, 0.33...</td>\n",
       "      <td>0.945667</td>\n",
       "      <td>0.784582</td>\n",
       "      <td>0.161084</td>\n",
       "    </tr>\n",
       "    <tr>\n",
       "      <th>4</th>\n",
       "      <td>bal_rf</td>\n",
       "      <td>(DecisionTreeClassifier(max_features='auto', r...</td>\n",
       "      <td>[0.13, 0.12, 0.27, 0.47, 0.13, 0.97, 0.82, 0.1...</td>\n",
       "      <td>[0.28, 0.51, 0.54, 0.75, 0.32, 0.86, 0.63, 0.6...</td>\n",
       "      <td>0.999901</td>\n",
       "      <td>0.773893</td>\n",
       "      <td>0.226008</td>\n",
       "    </tr>\n",
       "    <tr>\n",
       "      <th>0</th>\n",
       "      <td>Basic</td>\n",
       "      <td>(DecisionTreeClassifier(max_features='auto', r...</td>\n",
       "      <td>[0.04, 0.04, 0.13, 0.18, 0.06, 0.96, 0.73, 0.0...</td>\n",
       "      <td>[0.19, 0.34, 0.33, 0.47, 0.22, 0.77, 0.49, 0.4...</td>\n",
       "      <td>0.999989</td>\n",
       "      <td>0.768271</td>\n",
       "      <td>0.231719</td>\n",
       "    </tr>\n",
       "  </tbody>\n",
       "</table>\n",
       "</div>"
      ],
      "text/plain": [
       "          MODEL                                             PARAMS  \\\n",
       "8   bal_rf_best  (DecisionTreeClassifier(max_depth=7, max_featu...   \n",
       "9       rf_best  (DecisionTreeClassifier(criterion='entropy', m...   \n",
       "7  bal_rf_msl65  (DecisionTreeClassifier(max_features='auto', m...   \n",
       "6  bal_rf_msl45  (DecisionTreeClassifier(max_features='auto', m...   \n",
       "3      rf_msl65  (DecisionTreeClassifier(max_features='auto', m...   \n",
       "2      rf_msl45  (DecisionTreeClassifier(max_features='auto', m...   \n",
       "5  bal_rf_msl10  (DecisionTreeClassifier(max_features='auto', m...   \n",
       "1      rf_msl10  (DecisionTreeClassifier(max_features='auto', m...   \n",
       "4        bal_rf  (DecisionTreeClassifier(max_features='auto', r...   \n",
       "0         Basic  (DecisionTreeClassifier(max_features='auto', r...   \n",
       "\n",
       "                                        y_train_prob  \\\n",
       "8  [0.3225326860721324, 0.403762732475247, 0.3750...   \n",
       "9  [0.21318515099720223, 0.27151002043627637, 0.2...   \n",
       "7  [0.252757709454799, 0.3676981362144722, 0.3707...   \n",
       "6  [0.23496443345388532, 0.3448356567329877, 0.39...   \n",
       "3  [0.1346857862409104, 0.2343646944379507, 0.267...   \n",
       "2  [0.14487844933899072, 0.2130217194091534, 0.26...   \n",
       "5  [0.16721506858536128, 0.26587827130223207, 0.3...   \n",
       "1  [0.08854199087805899, 0.1768874675022498, 0.25...   \n",
       "4  [0.13, 0.12, 0.27, 0.47, 0.13, 0.97, 0.82, 0.1...   \n",
       "0  [0.04, 0.04, 0.13, 0.18, 0.06, 0.96, 0.73, 0.0...   \n",
       "\n",
       "                                         y_test_prob  TRAIN SCORE  TEST SCORE  \\\n",
       "8  [0.3216126522331057, 0.48172553200471296, 0.45...     0.805664    0.780975   \n",
       "9  [0.20807496719189986, 0.32706941376921145, 0.3...     0.806491    0.781744   \n",
       "7  [0.3045684252308866, 0.47011514456109454, 0.49...     0.827316    0.781132   \n",
       "6  [0.3065565404680901, 0.49037308492326387, 0.45...     0.841652    0.783055   \n",
       "3  [0.19147886321540672, 0.31018316836489557, 0.3...     0.842695    0.782932   \n",
       "2  [0.19996943135517753, 0.3533448404888128, 0.35...     0.858510    0.783177   \n",
       "5  [0.28520228259495206, 0.4587512390605052, 0.46...     0.922924    0.781394   \n",
       "1  [0.2219022504934216, 0.34254518158218156, 0.33...     0.945667    0.784582   \n",
       "4  [0.28, 0.51, 0.54, 0.75, 0.32, 0.86, 0.63, 0.6...     0.999901    0.773893   \n",
       "0  [0.19, 0.34, 0.33, 0.47, 0.22, 0.77, 0.49, 0.4...     0.999989    0.768271   \n",
       "\n",
       "   DIFFERENCE  \n",
       "8    0.024689  \n",
       "9    0.024747  \n",
       "7    0.046183  \n",
       "6    0.058597  \n",
       "3    0.059763  \n",
       "2    0.075333  \n",
       "5    0.141530  \n",
       "1    0.161084  \n",
       "4    0.226008  \n",
       "0    0.231719  "
      ]
     },
     "execution_count": 24,
     "metadata": {},
     "output_type": "execute_result"
    }
   ],
   "source": [
    "rf_score.sort_values(by='DIFFERENCE')"
   ]
  },
  {
   "cell_type": "markdown",
   "metadata": {},
   "source": [
    "`Best Model`:bal_rf_best"
   ]
  },
  {
   "cell_type": "code",
   "execution_count": 1,
   "metadata": {},
   "outputs": [],
   "source": [
    "import pandas as pd\n",
    "import numpy as np\n",
    "from sklearn.ensemble import RandomForestClassifier"
   ]
  },
  {
   "cell_type": "code",
   "execution_count": 2,
   "metadata": {},
   "outputs": [],
   "source": [
    "rf_best=RandomForestClassifier(n_estimators= 400,random_state=0,\n",
    " min_samples_leaf= 45,\n",
    " max_features= 'auto',\n",
    " max_depth= 7,\n",
    " criterion= 'entropy')"
   ]
  },
  {
   "cell_type": "code",
   "execution_count": null,
   "metadata": {},
   "outputs": [],
   "source": [
    "rf_best.fit()"
   ]
  }
 ],
 "metadata": {
  "kernelspec": {
   "display_name": "Python 3 (ipykernel)",
   "language": "python",
   "name": "python3"
  },
  "language_info": {
   "codemirror_mode": {
    "name": "ipython",
    "version": 3
   },
   "file_extension": ".py",
   "mimetype": "text/x-python",
   "name": "python",
   "nbconvert_exporter": "python",
   "pygments_lexer": "ipython3",
   "version": "3.12.4"
  }
 },
 "nbformat": 4,
 "nbformat_minor": 4
}
