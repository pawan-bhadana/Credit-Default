{
 "cells": [
  {
   "cell_type": "code",
   "execution_count": 1,
   "metadata": {},
   "outputs": [],
   "source": [
    "import pandas as pd\n",
    "import numpy as np\n",
    "\n",
    "import Build_Evaluate_Model as bem\n",
    "from sklearn.metrics import roc_auc_score\n",
    "from sklearn.ensemble import AdaBoostClassifier\n",
    "\n",
    "from sklearn.metrics import roc_auc_score\n",
    "\n",
    "from sklearn.linear_model import LogisticRegression\n",
    "from sklearn.model_selection import RandomizedSearchCV"
   ]
  },
  {
   "cell_type": "code",
   "execution_count": 2,
   "metadata": {},
   "outputs": [],
   "source": [
    "X_train,y_train,X_test,y_test=bem.get_xy_traintest(scale=False,scaler=None)"
   ]
  },
  {
   "cell_type": "markdown",
   "metadata": {},
   "source": [
    "### BASIC ADABOOST MODEL"
   ]
  },
  {
   "cell_type": "code",
   "execution_count": 3,
   "metadata": {},
   "outputs": [],
   "source": [
    "ada_boost_score=bem.build_basic_model(X_train,y_train,X_test,y_test,classifier='Ada boost')"
   ]
  },
  {
   "cell_type": "code",
   "execution_count": 4,
   "metadata": {},
   "outputs": [
    {
     "data": {
      "text/html": [
       "<div>\n",
       "<style scoped>\n",
       "    .dataframe tbody tr th:only-of-type {\n",
       "        vertical-align: middle;\n",
       "    }\n",
       "\n",
       "    .dataframe tbody tr th {\n",
       "        vertical-align: top;\n",
       "    }\n",
       "\n",
       "    .dataframe thead th {\n",
       "        text-align: right;\n",
       "    }\n",
       "</style>\n",
       "<table border=\"1\" class=\"dataframe\">\n",
       "  <thead>\n",
       "    <tr style=\"text-align: right;\">\n",
       "      <th></th>\n",
       "      <th>MODEL</th>\n",
       "      <th>PARAMS</th>\n",
       "      <th>y_train_prob</th>\n",
       "      <th>y_test_prob</th>\n",
       "      <th>TRAIN SCORE</th>\n",
       "      <th>TEST SCORE</th>\n",
       "      <th>DIFFERENCE</th>\n",
       "    </tr>\n",
       "  </thead>\n",
       "  <tbody>\n",
       "    <tr>\n",
       "      <th>0</th>\n",
       "      <td>Basic</td>\n",
       "      <td>(DecisionTreeClassifier(max_depth=1, random_st...</td>\n",
       "      <td>[0.4887871749029104, 0.49296437463268844, 0.49...</td>\n",
       "      <td>[0.49012963350651745, 0.4953450156025461, 0.49...</td>\n",
       "      <td>0.807889</td>\n",
       "      <td>0.74538</td>\n",
       "      <td>0.062509</td>\n",
       "    </tr>\n",
       "  </tbody>\n",
       "</table>\n",
       "</div>"
      ],
      "text/plain": [
       "   MODEL                                             PARAMS  \\\n",
       "0  Basic  (DecisionTreeClassifier(max_depth=1, random_st...   \n",
       "\n",
       "                                        y_train_prob  \\\n",
       "0  [0.4887871749029104, 0.49296437463268844, 0.49...   \n",
       "\n",
       "                                         y_test_prob  TRAIN SCORE  TEST SCORE  \\\n",
       "0  [0.49012963350651745, 0.4953450156025461, 0.49...     0.807889     0.74538   \n",
       "\n",
       "   DIFFERENCE  \n",
       "0    0.062509  "
      ]
     },
     "execution_count": 4,
     "metadata": {},
     "output_type": "execute_result"
    }
   ],
   "source": [
    "ada_boost_score\n"
   ]
  },
  {
   "cell_type": "markdown",
   "metadata": {},
   "source": [
    "### HYPER-PARAMETER TUNING FOR ADABOOST\n"
   ]
  },
  {
   "cell_type": "code",
   "execution_count": 5,
   "metadata": {},
   "outputs": [
    {
     "name": "stderr",
     "output_type": "stream",
     "text": [
      "C:\\Users\\hp\\anaconda3\\lib\\site-packages\\sklearn\\model_selection\\_search.py:278: UserWarning: The total space of parameters 6 is smaller than n_iter=10. Running 6 iterations. For exhaustive searches, use GridSearchCV.\n",
      "  warnings.warn(\n"
     ]
    },
    {
     "name": "stdout",
     "output_type": "stream",
     "text": [
      "Fitting 3 folds for each of 6 candidates, totalling 18 fits\n",
      "[Parallel(n_jobs=-100)]: Using backend SequentialBackend with 1 concurrent workers.\n",
      "[CV] n_estimators=100, learning_rate=1 ...............................\n",
      "[CV] ... n_estimators=100, learning_rate=1, score=0.728, total=   4.7s\n",
      "[Parallel(n_jobs=-100)]: Done   1 out of   1 | elapsed:    4.6s remaining:    0.0s\n",
      "[CV] n_estimators=100, learning_rate=1 ...............................\n",
      "[CV] ... n_estimators=100, learning_rate=1, score=0.808, total=   4.6s\n",
      "[Parallel(n_jobs=-100)]: Done   2 out of   2 | elapsed:    9.2s remaining:    0.0s\n",
      "[CV] n_estimators=100, learning_rate=1 ...............................\n",
      "[CV] ... n_estimators=100, learning_rate=1, score=0.836, total=   4.5s\n",
      "[Parallel(n_jobs=-100)]: Done   3 out of   3 | elapsed:   13.7s remaining:    0.0s\n",
      "[CV] n_estimators=200, learning_rate=1 ...............................\n",
      "[CV] ... n_estimators=200, learning_rate=1, score=0.728, total=   9.2s\n",
      "[Parallel(n_jobs=-100)]: Done   4 out of   4 | elapsed:   22.9s remaining:    0.0s\n",
      "[CV] n_estimators=200, learning_rate=1 ...............................\n",
      "[CV] ... n_estimators=200, learning_rate=1, score=0.810, total=   8.9s\n",
      "[Parallel(n_jobs=-100)]: Done   5 out of   5 | elapsed:   31.8s remaining:    0.0s\n",
      "[CV] n_estimators=200, learning_rate=1 ...............................\n",
      "[CV] ... n_estimators=200, learning_rate=1, score=0.840, total=   9.3s\n",
      "[Parallel(n_jobs=-100)]: Done   6 out of   6 | elapsed:   41.1s remaining:    0.0s\n",
      "[CV] n_estimators=100, learning_rate=10 ..............................\n",
      "[CV] .. n_estimators=100, learning_rate=10, score=0.370, total=   2.0s\n",
      "[Parallel(n_jobs=-100)]: Done   7 out of   7 | elapsed:   43.1s remaining:    0.0s\n",
      "[CV] n_estimators=100, learning_rate=10 ..............................\n",
      "[CV] .. n_estimators=100, learning_rate=10, score=0.333, total=   1.9s\n",
      "[Parallel(n_jobs=-100)]: Done   8 out of   8 | elapsed:   45.0s remaining:    0.0s\n",
      "[CV] n_estimators=100, learning_rate=10 ..............................\n",
      "[CV] .. n_estimators=100, learning_rate=10, score=0.446, total=   4.5s\n",
      "[Parallel(n_jobs=-100)]: Done   9 out of   9 | elapsed:   49.5s remaining:    0.0s\n",
      "[CV] n_estimators=200, learning_rate=10 ..............................\n",
      "[CV] .. n_estimators=200, learning_rate=10, score=0.370, total=   3.8s\n",
      "[Parallel(n_jobs=-100)]: Done  10 out of  10 | elapsed:   53.3s remaining:    0.0s\n",
      "[CV] n_estimators=200, learning_rate=10 ..............................\n",
      "[CV] .. n_estimators=200, learning_rate=10, score=0.333, total=   3.9s\n",
      "[Parallel(n_jobs=-100)]: Done  11 out of  11 | elapsed:   57.2s remaining:    0.0s\n",
      "[CV] n_estimators=200, learning_rate=10 ..............................\n",
      "[CV] .. n_estimators=200, learning_rate=10, score=0.446, total=   9.4s\n",
      "[Parallel(n_jobs=-100)]: Done  12 out of  12 | elapsed:  1.1min remaining:    0.0s\n",
      "[CV] n_estimators=100, learning_rate=50 ..............................\n",
      "[CV] .... n_estimators=100, learning_rate=50, score=nan, total=   0.1s\n",
      "[Parallel(n_jobs=-100)]: Done  13 out of  13 | elapsed:  1.1min remaining:    0.0s\n",
      "[CV] n_estimators=100, learning_rate=50 ..............................\n"
     ]
    },
    {
     "name": "stderr",
     "output_type": "stream",
     "text": [
      "C:\\Users\\hp\\anaconda3\\lib\\site-packages\\sklearn\\ensemble\\_weight_boosting.py:561: RuntimeWarning: overflow encountered in exp\n",
      "  sample_weight *= np.exp(estimator_weight *\n",
      "C:\\Users\\hp\\anaconda3\\lib\\site-packages\\sklearn\\ensemble\\_weight_boosting.py:155: RuntimeWarning: invalid value encountered in true_divide\n",
      "  sample_weight /= sample_weight_sum\n",
      "C:\\Users\\hp\\anaconda3\\lib\\site-packages\\sklearn\\model_selection\\_validation.py:548: FitFailedWarning: Estimator fit failed. The score on this train-test partition for these parameters will be set to nan. Details: \n",
      "Traceback (most recent call last):\n",
      "  File \"C:\\Users\\hp\\anaconda3\\lib\\site-packages\\sklearn\\model_selection\\_validation.py\", line 531, in _fit_and_score\n",
      "    estimator.fit(X_train, y_train, **fit_params)\n",
      "  File \"C:\\Users\\hp\\anaconda3\\lib\\site-packages\\sklearn\\ensemble\\_weight_boosting.py\", line 443, in fit\n",
      "    return super().fit(X, y, sample_weight)\n",
      "  File \"C:\\Users\\hp\\anaconda3\\lib\\site-packages\\sklearn\\ensemble\\_weight_boosting.py\", line 130, in fit\n",
      "    sample_weight, estimator_weight, estimator_error = self._boost(\n",
      "  File \"C:\\Users\\hp\\anaconda3\\lib\\site-packages\\sklearn\\ensemble\\_weight_boosting.py\", line 503, in _boost\n",
      "    return self._boost_real(iboost, X, y, sample_weight, random_state)\n",
      "  File \"C:\\Users\\hp\\anaconda3\\lib\\site-packages\\sklearn\\ensemble\\_weight_boosting.py\", line 513, in _boost_real\n",
      "    estimator.fit(X, y, sample_weight=sample_weight)\n",
      "  File \"C:\\Users\\hp\\anaconda3\\lib\\site-packages\\sklearn\\tree\\_classes.py\", line 890, in fit\n",
      "    super().fit(\n",
      "  File \"C:\\Users\\hp\\anaconda3\\lib\\site-packages\\sklearn\\tree\\_classes.py\", line 288, in fit\n",
      "    sample_weight = _check_sample_weight(sample_weight, X, DOUBLE)\n",
      "  File \"C:\\Users\\hp\\anaconda3\\lib\\site-packages\\sklearn\\utils\\validation.py\", line 1295, in _check_sample_weight\n",
      "    sample_weight = check_array(\n",
      "  File \"C:\\Users\\hp\\anaconda3\\lib\\site-packages\\sklearn\\utils\\validation.py\", line 73, in inner_f\n",
      "    return f(**kwargs)\n",
      "  File \"C:\\Users\\hp\\anaconda3\\lib\\site-packages\\sklearn\\utils\\validation.py\", line 645, in check_array\n",
      "    _assert_all_finite(array,\n",
      "  File \"C:\\Users\\hp\\anaconda3\\lib\\site-packages\\sklearn\\utils\\validation.py\", line 97, in _assert_all_finite\n",
      "    raise ValueError(\n",
      "ValueError: Input contains NaN, infinity or a value too large for dtype('float64').\n",
      "\n",
      "  warnings.warn(\"Estimator fit failed. The score on this train-test\"\n",
      "C:\\Users\\hp\\anaconda3\\lib\\site-packages\\sklearn\\ensemble\\_weight_boosting.py:561: RuntimeWarning: overflow encountered in exp\n",
      "  sample_weight *= np.exp(estimator_weight *\n",
      "C:\\Users\\hp\\anaconda3\\lib\\site-packages\\sklearn\\ensemble\\_weight_boosting.py:155: RuntimeWarning: invalid value encountered in true_divide\n",
      "  sample_weight /= sample_weight_sum\n",
      "C:\\Users\\hp\\anaconda3\\lib\\site-packages\\sklearn\\model_selection\\_validation.py:548: FitFailedWarning: Estimator fit failed. The score on this train-test partition for these parameters will be set to nan. Details: \n",
      "Traceback (most recent call last):\n",
      "  File \"C:\\Users\\hp\\anaconda3\\lib\\site-packages\\sklearn\\model_selection\\_validation.py\", line 531, in _fit_and_score\n",
      "    estimator.fit(X_train, y_train, **fit_params)\n",
      "  File \"C:\\Users\\hp\\anaconda3\\lib\\site-packages\\sklearn\\ensemble\\_weight_boosting.py\", line 443, in fit\n",
      "    return super().fit(X, y, sample_weight)\n",
      "  File \"C:\\Users\\hp\\anaconda3\\lib\\site-packages\\sklearn\\ensemble\\_weight_boosting.py\", line 130, in fit\n",
      "    sample_weight, estimator_weight, estimator_error = self._boost(\n",
      "  File \"C:\\Users\\hp\\anaconda3\\lib\\site-packages\\sklearn\\ensemble\\_weight_boosting.py\", line 503, in _boost\n",
      "    return self._boost_real(iboost, X, y, sample_weight, random_state)\n",
      "  File \"C:\\Users\\hp\\anaconda3\\lib\\site-packages\\sklearn\\ensemble\\_weight_boosting.py\", line 513, in _boost_real\n",
      "    estimator.fit(X, y, sample_weight=sample_weight)\n",
      "  File \"C:\\Users\\hp\\anaconda3\\lib\\site-packages\\sklearn\\tree\\_classes.py\", line 890, in fit\n",
      "    super().fit(\n",
      "  File \"C:\\Users\\hp\\anaconda3\\lib\\site-packages\\sklearn\\tree\\_classes.py\", line 288, in fit\n",
      "    sample_weight = _check_sample_weight(sample_weight, X, DOUBLE)\n",
      "  File \"C:\\Users\\hp\\anaconda3\\lib\\site-packages\\sklearn\\utils\\validation.py\", line 1295, in _check_sample_weight\n",
      "    sample_weight = check_array(\n",
      "  File \"C:\\Users\\hp\\anaconda3\\lib\\site-packages\\sklearn\\utils\\validation.py\", line 73, in inner_f\n",
      "    return f(**kwargs)\n",
      "  File \"C:\\Users\\hp\\anaconda3\\lib\\site-packages\\sklearn\\utils\\validation.py\", line 645, in check_array\n",
      "    _assert_all_finite(array,\n",
      "  File \"C:\\Users\\hp\\anaconda3\\lib\\site-packages\\sklearn\\utils\\validation.py\", line 97, in _assert_all_finite\n",
      "    raise ValueError(\n",
      "ValueError: Input contains NaN, infinity or a value too large for dtype('float64').\n",
      "\n",
      "  warnings.warn(\"Estimator fit failed. The score on this train-test\"\n"
     ]
    },
    {
     "name": "stdout",
     "output_type": "stream",
     "text": [
      "[CV] .... n_estimators=100, learning_rate=50, score=nan, total=   0.1s\n",
      "[Parallel(n_jobs=-100)]: Done  14 out of  14 | elapsed:  1.1min remaining:    0.0s\n",
      "[CV] n_estimators=100, learning_rate=50 ..............................\n",
      "[CV] .... n_estimators=100, learning_rate=50, score=nan, total=   0.1s\n",
      "[Parallel(n_jobs=-100)]: Done  15 out of  15 | elapsed:  1.1min remaining:    0.0s\n",
      "[CV] n_estimators=200, learning_rate=50 ..............................\n"
     ]
    },
    {
     "name": "stderr",
     "output_type": "stream",
     "text": [
      "C:\\Users\\hp\\anaconda3\\lib\\site-packages\\sklearn\\ensemble\\_weight_boosting.py:561: RuntimeWarning: overflow encountered in exp\n",
      "  sample_weight *= np.exp(estimator_weight *\n",
      "C:\\Users\\hp\\anaconda3\\lib\\site-packages\\sklearn\\ensemble\\_weight_boosting.py:155: RuntimeWarning: invalid value encountered in true_divide\n",
      "  sample_weight /= sample_weight_sum\n",
      "C:\\Users\\hp\\anaconda3\\lib\\site-packages\\sklearn\\model_selection\\_validation.py:548: FitFailedWarning: Estimator fit failed. The score on this train-test partition for these parameters will be set to nan. Details: \n",
      "Traceback (most recent call last):\n",
      "  File \"C:\\Users\\hp\\anaconda3\\lib\\site-packages\\sklearn\\model_selection\\_validation.py\", line 531, in _fit_and_score\n",
      "    estimator.fit(X_train, y_train, **fit_params)\n",
      "  File \"C:\\Users\\hp\\anaconda3\\lib\\site-packages\\sklearn\\ensemble\\_weight_boosting.py\", line 443, in fit\n",
      "    return super().fit(X, y, sample_weight)\n",
      "  File \"C:\\Users\\hp\\anaconda3\\lib\\site-packages\\sklearn\\ensemble\\_weight_boosting.py\", line 130, in fit\n",
      "    sample_weight, estimator_weight, estimator_error = self._boost(\n",
      "  File \"C:\\Users\\hp\\anaconda3\\lib\\site-packages\\sklearn\\ensemble\\_weight_boosting.py\", line 503, in _boost\n",
      "    return self._boost_real(iboost, X, y, sample_weight, random_state)\n",
      "  File \"C:\\Users\\hp\\anaconda3\\lib\\site-packages\\sklearn\\ensemble\\_weight_boosting.py\", line 513, in _boost_real\n",
      "    estimator.fit(X, y, sample_weight=sample_weight)\n",
      "  File \"C:\\Users\\hp\\anaconda3\\lib\\site-packages\\sklearn\\tree\\_classes.py\", line 890, in fit\n",
      "    super().fit(\n",
      "  File \"C:\\Users\\hp\\anaconda3\\lib\\site-packages\\sklearn\\tree\\_classes.py\", line 288, in fit\n",
      "    sample_weight = _check_sample_weight(sample_weight, X, DOUBLE)\n",
      "  File \"C:\\Users\\hp\\anaconda3\\lib\\site-packages\\sklearn\\utils\\validation.py\", line 1295, in _check_sample_weight\n",
      "    sample_weight = check_array(\n",
      "  File \"C:\\Users\\hp\\anaconda3\\lib\\site-packages\\sklearn\\utils\\validation.py\", line 73, in inner_f\n",
      "    return f(**kwargs)\n",
      "  File \"C:\\Users\\hp\\anaconda3\\lib\\site-packages\\sklearn\\utils\\validation.py\", line 645, in check_array\n",
      "    _assert_all_finite(array,\n",
      "  File \"C:\\Users\\hp\\anaconda3\\lib\\site-packages\\sklearn\\utils\\validation.py\", line 97, in _assert_all_finite\n",
      "    raise ValueError(\n",
      "ValueError: Input contains NaN, infinity or a value too large for dtype('float64').\n",
      "\n",
      "  warnings.warn(\"Estimator fit failed. The score on this train-test\"\n",
      "C:\\Users\\hp\\anaconda3\\lib\\site-packages\\sklearn\\ensemble\\_weight_boosting.py:561: RuntimeWarning: overflow encountered in exp\n",
      "  sample_weight *= np.exp(estimator_weight *\n",
      "C:\\Users\\hp\\anaconda3\\lib\\site-packages\\sklearn\\ensemble\\_weight_boosting.py:155: RuntimeWarning: invalid value encountered in true_divide\n",
      "  sample_weight /= sample_weight_sum\n",
      "C:\\Users\\hp\\anaconda3\\lib\\site-packages\\sklearn\\model_selection\\_validation.py:548: FitFailedWarning: Estimator fit failed. The score on this train-test partition for these parameters will be set to nan. Details: \n",
      "Traceback (most recent call last):\n",
      "  File \"C:\\Users\\hp\\anaconda3\\lib\\site-packages\\sklearn\\model_selection\\_validation.py\", line 531, in _fit_and_score\n",
      "    estimator.fit(X_train, y_train, **fit_params)\n",
      "  File \"C:\\Users\\hp\\anaconda3\\lib\\site-packages\\sklearn\\ensemble\\_weight_boosting.py\", line 443, in fit\n",
      "    return super().fit(X, y, sample_weight)\n",
      "  File \"C:\\Users\\hp\\anaconda3\\lib\\site-packages\\sklearn\\ensemble\\_weight_boosting.py\", line 130, in fit\n",
      "    sample_weight, estimator_weight, estimator_error = self._boost(\n",
      "  File \"C:\\Users\\hp\\anaconda3\\lib\\site-packages\\sklearn\\ensemble\\_weight_boosting.py\", line 503, in _boost\n",
      "    return self._boost_real(iboost, X, y, sample_weight, random_state)\n",
      "  File \"C:\\Users\\hp\\anaconda3\\lib\\site-packages\\sklearn\\ensemble\\_weight_boosting.py\", line 513, in _boost_real\n",
      "    estimator.fit(X, y, sample_weight=sample_weight)\n",
      "  File \"C:\\Users\\hp\\anaconda3\\lib\\site-packages\\sklearn\\tree\\_classes.py\", line 890, in fit\n",
      "    super().fit(\n",
      "  File \"C:\\Users\\hp\\anaconda3\\lib\\site-packages\\sklearn\\tree\\_classes.py\", line 288, in fit\n",
      "    sample_weight = _check_sample_weight(sample_weight, X, DOUBLE)\n",
      "  File \"C:\\Users\\hp\\anaconda3\\lib\\site-packages\\sklearn\\utils\\validation.py\", line 1295, in _check_sample_weight\n",
      "    sample_weight = check_array(\n",
      "  File \"C:\\Users\\hp\\anaconda3\\lib\\site-packages\\sklearn\\utils\\validation.py\", line 73, in inner_f\n",
      "    return f(**kwargs)\n",
      "  File \"C:\\Users\\hp\\anaconda3\\lib\\site-packages\\sklearn\\utils\\validation.py\", line 645, in check_array\n",
      "    _assert_all_finite(array,\n",
      "  File \"C:\\Users\\hp\\anaconda3\\lib\\site-packages\\sklearn\\utils\\validation.py\", line 97, in _assert_all_finite\n",
      "    raise ValueError(\n",
      "ValueError: Input contains NaN, infinity or a value too large for dtype('float64').\n",
      "\n",
      "  warnings.warn(\"Estimator fit failed. The score on this train-test\"\n",
      "C:\\Users\\hp\\anaconda3\\lib\\site-packages\\sklearn\\ensemble\\_weight_boosting.py:561: RuntimeWarning: overflow encountered in exp\n",
      "  sample_weight *= np.exp(estimator_weight *\n"
     ]
    },
    {
     "name": "stdout",
     "output_type": "stream",
     "text": [
      "[CV] .... n_estimators=200, learning_rate=50, score=nan, total=   0.1s\n",
      "[Parallel(n_jobs=-100)]: Done  16 out of  16 | elapsed:  1.1min remaining:    0.0s\n",
      "[CV] n_estimators=200, learning_rate=50 ..............................\n",
      "[CV] .... n_estimators=200, learning_rate=50, score=nan, total=   0.1s\n",
      "[Parallel(n_jobs=-100)]: Done  17 out of  17 | elapsed:  1.1min remaining:    0.0s\n",
      "[CV] n_estimators=200, learning_rate=50 ..............................\n"
     ]
    },
    {
     "name": "stderr",
     "output_type": "stream",
     "text": [
      "C:\\Users\\hp\\anaconda3\\lib\\site-packages\\sklearn\\ensemble\\_weight_boosting.py:155: RuntimeWarning: invalid value encountered in true_divide\n",
      "  sample_weight /= sample_weight_sum\n",
      "C:\\Users\\hp\\anaconda3\\lib\\site-packages\\sklearn\\model_selection\\_validation.py:548: FitFailedWarning: Estimator fit failed. The score on this train-test partition for these parameters will be set to nan. Details: \n",
      "Traceback (most recent call last):\n",
      "  File \"C:\\Users\\hp\\anaconda3\\lib\\site-packages\\sklearn\\model_selection\\_validation.py\", line 531, in _fit_and_score\n",
      "    estimator.fit(X_train, y_train, **fit_params)\n",
      "  File \"C:\\Users\\hp\\anaconda3\\lib\\site-packages\\sklearn\\ensemble\\_weight_boosting.py\", line 443, in fit\n",
      "    return super().fit(X, y, sample_weight)\n",
      "  File \"C:\\Users\\hp\\anaconda3\\lib\\site-packages\\sklearn\\ensemble\\_weight_boosting.py\", line 130, in fit\n",
      "    sample_weight, estimator_weight, estimator_error = self._boost(\n",
      "  File \"C:\\Users\\hp\\anaconda3\\lib\\site-packages\\sklearn\\ensemble\\_weight_boosting.py\", line 503, in _boost\n",
      "    return self._boost_real(iboost, X, y, sample_weight, random_state)\n",
      "  File \"C:\\Users\\hp\\anaconda3\\lib\\site-packages\\sklearn\\ensemble\\_weight_boosting.py\", line 513, in _boost_real\n",
      "    estimator.fit(X, y, sample_weight=sample_weight)\n",
      "  File \"C:\\Users\\hp\\anaconda3\\lib\\site-packages\\sklearn\\tree\\_classes.py\", line 890, in fit\n",
      "    super().fit(\n",
      "  File \"C:\\Users\\hp\\anaconda3\\lib\\site-packages\\sklearn\\tree\\_classes.py\", line 288, in fit\n",
      "    sample_weight = _check_sample_weight(sample_weight, X, DOUBLE)\n",
      "  File \"C:\\Users\\hp\\anaconda3\\lib\\site-packages\\sklearn\\utils\\validation.py\", line 1295, in _check_sample_weight\n",
      "    sample_weight = check_array(\n",
      "  File \"C:\\Users\\hp\\anaconda3\\lib\\site-packages\\sklearn\\utils\\validation.py\", line 73, in inner_f\n",
      "    return f(**kwargs)\n",
      "  File \"C:\\Users\\hp\\anaconda3\\lib\\site-packages\\sklearn\\utils\\validation.py\", line 645, in check_array\n",
      "    _assert_all_finite(array,\n",
      "  File \"C:\\Users\\hp\\anaconda3\\lib\\site-packages\\sklearn\\utils\\validation.py\", line 97, in _assert_all_finite\n",
      "    raise ValueError(\n",
      "ValueError: Input contains NaN, infinity or a value too large for dtype('float64').\n",
      "\n",
      "  warnings.warn(\"Estimator fit failed. The score on this train-test\"\n",
      "C:\\Users\\hp\\anaconda3\\lib\\site-packages\\sklearn\\ensemble\\_weight_boosting.py:561: RuntimeWarning: overflow encountered in exp\n",
      "  sample_weight *= np.exp(estimator_weight *\n",
      "C:\\Users\\hp\\anaconda3\\lib\\site-packages\\sklearn\\ensemble\\_weight_boosting.py:155: RuntimeWarning: invalid value encountered in true_divide\n",
      "  sample_weight /= sample_weight_sum\n",
      "C:\\Users\\hp\\anaconda3\\lib\\site-packages\\sklearn\\model_selection\\_validation.py:548: FitFailedWarning: Estimator fit failed. The score on this train-test partition for these parameters will be set to nan. Details: \n",
      "Traceback (most recent call last):\n",
      "  File \"C:\\Users\\hp\\anaconda3\\lib\\site-packages\\sklearn\\model_selection\\_validation.py\", line 531, in _fit_and_score\n",
      "    estimator.fit(X_train, y_train, **fit_params)\n",
      "  File \"C:\\Users\\hp\\anaconda3\\lib\\site-packages\\sklearn\\ensemble\\_weight_boosting.py\", line 443, in fit\n",
      "    return super().fit(X, y, sample_weight)\n",
      "  File \"C:\\Users\\hp\\anaconda3\\lib\\site-packages\\sklearn\\ensemble\\_weight_boosting.py\", line 130, in fit\n",
      "    sample_weight, estimator_weight, estimator_error = self._boost(\n",
      "  File \"C:\\Users\\hp\\anaconda3\\lib\\site-packages\\sklearn\\ensemble\\_weight_boosting.py\", line 503, in _boost\n",
      "    return self._boost_real(iboost, X, y, sample_weight, random_state)\n",
      "  File \"C:\\Users\\hp\\anaconda3\\lib\\site-packages\\sklearn\\ensemble\\_weight_boosting.py\", line 513, in _boost_real\n",
      "    estimator.fit(X, y, sample_weight=sample_weight)\n",
      "  File \"C:\\Users\\hp\\anaconda3\\lib\\site-packages\\sklearn\\tree\\_classes.py\", line 890, in fit\n",
      "    super().fit(\n",
      "  File \"C:\\Users\\hp\\anaconda3\\lib\\site-packages\\sklearn\\tree\\_classes.py\", line 288, in fit\n",
      "    sample_weight = _check_sample_weight(sample_weight, X, DOUBLE)\n",
      "  File \"C:\\Users\\hp\\anaconda3\\lib\\site-packages\\sklearn\\utils\\validation.py\", line 1295, in _check_sample_weight\n",
      "    sample_weight = check_array(\n",
      "  File \"C:\\Users\\hp\\anaconda3\\lib\\site-packages\\sklearn\\utils\\validation.py\", line 73, in inner_f\n",
      "    return f(**kwargs)\n",
      "  File \"C:\\Users\\hp\\anaconda3\\lib\\site-packages\\sklearn\\utils\\validation.py\", line 645, in check_array\n",
      "    _assert_all_finite(array,\n",
      "  File \"C:\\Users\\hp\\anaconda3\\lib\\site-packages\\sklearn\\utils\\validation.py\", line 97, in _assert_all_finite\n",
      "    raise ValueError(\n",
      "ValueError: Input contains NaN, infinity or a value too large for dtype('float64').\n",
      "\n",
      "  warnings.warn(\"Estimator fit failed. The score on this train-test\"\n"
     ]
    },
    {
     "name": "stdout",
     "output_type": "stream",
     "text": [
      "[CV] .... n_estimators=200, learning_rate=50, score=nan, total=   0.1s\n",
      "[Parallel(n_jobs=-100)]: Done  18 out of  18 | elapsed:  1.1min remaining:    0.0s\n",
      "[Parallel(n_jobs=-100)]: Done  18 out of  18 | elapsed:  1.1min finished\n"
     ]
    },
    {
     "data": {
      "text/plain": [
       "RandomizedSearchCV(cv=3, estimator=AdaBoostClassifier(random_state=42),\n",
       "                   n_jobs=-100,\n",
       "                   param_distributions={'learning_rate': [1, 10, 50],\n",
       "                                        'n_estimators': [100, 200]},\n",
       "                   scoring='roc_auc', verbose=100)"
      ]
     },
     "execution_count": 5,
     "metadata": {},
     "output_type": "execute_result"
    }
   ],
   "source": [
    "classifier=AdaBoostClassifier(random_state=42)\n",
    "\n",
    "param_grid={'n_estimators':[100,200],'learning_rate':[1,10,50]}\n",
    "model=RandomizedSearchCV(estimator=classifier,param_distributions=param_grid,scoring='roc_auc',verbose=100,n_jobs=-100,cv=3)\n",
    "model.fit(X_train,y_train)"
   ]
  },
  {
   "cell_type": "code",
   "execution_count": 7,
   "metadata": {},
   "outputs": [
    {
     "data": {
      "text/plain": [
       "{'n_estimators': 200, 'learning_rate': 1}"
      ]
     },
     "execution_count": 7,
     "metadata": {},
     "output_type": "execute_result"
    }
   ],
   "source": [
    "model.best_params_"
   ]
  },
  {
   "cell_type": "code",
   "execution_count": 8,
   "metadata": {},
   "outputs": [],
   "source": [
    "ada_best=AdaBoostClassifier(random_state=42,n_estimators=200,learning_rate=1)"
   ]
  },
  {
   "cell_type": "code",
   "execution_count": 10,
   "metadata": {},
   "outputs": [],
   "source": [
    "ada_boost_score=bem.build_model(X_train,y_train,X_test,y_test,classifier=ada_best,score_df=ada_boost_score,classifier_name='ada_best')"
   ]
  },
  {
   "cell_type": "code",
   "execution_count": 11,
   "metadata": {},
   "outputs": [
    {
     "data": {
      "text/html": [
       "<div>\n",
       "<style scoped>\n",
       "    .dataframe tbody tr th:only-of-type {\n",
       "        vertical-align: middle;\n",
       "    }\n",
       "\n",
       "    .dataframe tbody tr th {\n",
       "        vertical-align: top;\n",
       "    }\n",
       "\n",
       "    .dataframe thead th {\n",
       "        text-align: right;\n",
       "    }\n",
       "</style>\n",
       "<table border=\"1\" class=\"dataframe\">\n",
       "  <thead>\n",
       "    <tr style=\"text-align: right;\">\n",
       "      <th></th>\n",
       "      <th>MODEL</th>\n",
       "      <th>PARAMS</th>\n",
       "      <th>y_train_prob</th>\n",
       "      <th>y_test_prob</th>\n",
       "      <th>TRAIN SCORE</th>\n",
       "      <th>TEST SCORE</th>\n",
       "      <th>DIFFERENCE</th>\n",
       "    </tr>\n",
       "  </thead>\n",
       "  <tbody>\n",
       "    <tr>\n",
       "      <th>0</th>\n",
       "      <td>Basic</td>\n",
       "      <td>(DecisionTreeClassifier(max_depth=1, random_st...</td>\n",
       "      <td>[0.4887871749029104, 0.49296437463268844, 0.49...</td>\n",
       "      <td>[0.49012963350651745, 0.4953450156025461, 0.49...</td>\n",
       "      <td>0.807889</td>\n",
       "      <td>0.745380</td>\n",
       "      <td>0.062509</td>\n",
       "    </tr>\n",
       "    <tr>\n",
       "      <th>1</th>\n",
       "      <td>ada_best</td>\n",
       "      <td>(DecisionTreeClassifier(max_depth=1, random_st...</td>\n",
       "      <td>[0.4970210136330792, 0.49795557068676527, 0.49...</td>\n",
       "      <td>[0.4972001022315647, 0.4987101198464382, 0.498...</td>\n",
       "      <td>0.817702</td>\n",
       "      <td>0.747891</td>\n",
       "      <td>0.069811</td>\n",
       "    </tr>\n",
       "  </tbody>\n",
       "</table>\n",
       "</div>"
      ],
      "text/plain": [
       "      MODEL                                             PARAMS  \\\n",
       "0     Basic  (DecisionTreeClassifier(max_depth=1, random_st...   \n",
       "1  ada_best  (DecisionTreeClassifier(max_depth=1, random_st...   \n",
       "\n",
       "                                        y_train_prob  \\\n",
       "0  [0.4887871749029104, 0.49296437463268844, 0.49...   \n",
       "1  [0.4970210136330792, 0.49795557068676527, 0.49...   \n",
       "\n",
       "                                         y_test_prob  TRAIN SCORE  TEST SCORE  \\\n",
       "0  [0.49012963350651745, 0.4953450156025461, 0.49...     0.807889    0.745380   \n",
       "1  [0.4972001022315647, 0.4987101198464382, 0.498...     0.817702    0.747891   \n",
       "\n",
       "   DIFFERENCE  \n",
       "0    0.062509  \n",
       "1    0.069811  "
      ]
     },
     "execution_count": 11,
     "metadata": {},
     "output_type": "execute_result"
    }
   ],
   "source": [
    "ada_boost_score"
   ]
  },
  {
   "cell_type": "code",
   "execution_count": null,
   "metadata": {},
   "outputs": [],
   "source": []
  }
 ],
 "metadata": {
  "kernelspec": {
   "display_name": "Python 3",
   "language": "python",
   "name": "python3"
  },
  "language_info": {
   "codemirror_mode": {
    "name": "ipython",
    "version": 3
   },
   "file_extension": ".py",
   "mimetype": "text/x-python",
   "name": "python",
   "nbconvert_exporter": "python",
   "pygments_lexer": "ipython3",
   "version": "3.8.3"
  }
 },
 "nbformat": 4,
 "nbformat_minor": 4
}
